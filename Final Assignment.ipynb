{
 "cells": [
  {
   "cell_type": "markdown",
   "metadata": {
    "collapsed": true
   },
   "source": [
    "# My Jupyter Notebook on IBM Watson Studio"
   ]
  },
  {
   "cell_type": "markdown",
   "metadata": {},
   "source": [
    "__Justin Isinguzo__\n",
    "\n",
    "Data Scientist"
   ]
  },
  {
   "cell_type": "markdown",
   "metadata": {},
   "source": [
    "_I am interested in Data science because of my passion for numbers_\n",
    "\n",
    "_As a graduate of Applied Mathematics I hope to use this occupation to improve my mathematical skills and use it for nation building_ "
   ]
  },
  {
   "cell_type": "markdown",
   "metadata": {},
   "source": [
    "### The code in cell five will multiply 5 by 4 (5 x 4) to produce 20 as result."
   ]
  },
  {
   "cell_type": "code",
   "execution_count": 1,
   "metadata": {},
   "outputs": [
    {
     "data": {
      "text/plain": [
       "20"
      ]
     },
     "execution_count": 1,
     "metadata": {},
     "output_type": "execute_result"
    }
   ],
   "source": [
    " 5*4"
   ]
  },
  {
   "cell_type": "markdown",
   "metadata": {},
   "source": [
    "<ul>\n",
    "<li><p>Hi</p>\n",
    "<li><p>You are going to</p>\n",
    "<li><p>to get that desired job you're looking for</p>\n",
    "</ul>   \n",
    "\n",
    "<ol>\n",
    "<li><p>Read</p>\n",
    "<li><p>Practice</p>\n",
    "<li><p>get that desired job</p>\n",
    "</ol>  \n",
    "\n",
    "<!-- [Text](link) -->\n",
    "<p><a href=\"https://github.com/Barrizm\" title=\"Optional Title\">My Github</a></p>\n",
    "\n",
    "\n",
    "\n",
    "<table>\n",
    "  <tr>\n",
    "    <th>Name</th>\n",
    "    <th>Certification</th>\n",
    "    <th>Position</th>\n",
    "  </tr>\n",
    "  <tr>\n",
    "    <td>Justin</td>\n",
    "    <td>IBM Cert</td>\n",
    "    <td>First</td>\n",
    "  </tr>\n",
    "  <tr>\n",
    "    <td>Reviewer</td>\n",
    "    <td>IBM DataScience</td>\n",
    "    <td>Second</td>\n",
    "  </tr>\n",
    "</table>\n",
    "    \n",
    "   "
   ]
  },
  {
   "cell_type": "code",
   "execution_count": null,
   "metadata": {},
   "outputs": [],
   "source": []
  }
 ],
 "metadata": {
  "kernelspec": {
   "display_name": "Python 3.9",
   "language": "python",
   "name": "python3"
  },
  "language_info": {
   "codemirror_mode": {
    "name": "ipython",
    "version": 3
   },
   "file_extension": ".py",
   "mimetype": "text/x-python",
   "name": "python",
   "nbconvert_exporter": "python",
   "pygments_lexer": "ipython3",
   "version": "3.9.13"
  }
 },
 "nbformat": 4,
 "nbformat_minor": 1
}
